{
 "cells": [
  {
   "cell_type": "markdown",
   "metadata": {},
   "source": [
    "# **Test Case: Create Money Asistance**\n",
    "\n",
    "- **Name**: Daffa Albari\n",
    "- **Email**: daffaa.albari@gmail.com"
   ]
  },
  {
   "cell_type": "markdown",
   "metadata": {},
   "source": [
    "## Test Case\n",
    "\n",
    "### Soal\n",
    "Buatlah sebuah AI assistant untuk membantu analisis keuangan pribadi. Assistant ini akan membantu user menganalisis pengeluaran mereka dan memberikan rekomendasi penghematan.\n",
    "\n",
    "### Data Source\n",
    "1. CSV file: transaksi bank (kolom: tanggal, nominal, kategori, keterangan)\n",
    "2. PDF file: struk-struk belanja yang diupload user\n",
    "3. SQLite DB: budget categories dan rules (Database bebas)\n",
    "\n",
    "### Feature\n",
    "1. Upload dan analisis CSV transaksi bank\n",
    "2. Upload struk belanja (PDF) dan ekstrak informasinya\n",
    "3. Kategorisasi otomatis transaksi\n",
    "4. Visualisasi pengeluaran per kategori\n",
    "5. Generate monthly report dengan insights\n",
    "6. Rekomendasi penghematan berdasarkan spending pattern\n",
    "\n",
    "### Tech Stack:\n",
    "- Python FastAPI\n",
    "- LangChain untuk RAG\n",
    "- SQLite untuk structured data\n",
    "- Basic LLM Provider (misal: GPT, Gemini, Groq)\n",
    "- Streamlit untuk visualisasi sederhana\n",
    "\n",
    "\n",
    "### Example queries yang harus bisa dijawab:\n",
    "1. \"Apa kategori dengan pengeluaran terbesar bulan ini?\"\n",
    "2. \"Tolong analisis struk belanja supermarket ini dan bandingkan dengan budget\"\n",
    "3. \"Berikan 3 rekomendasi cara menghemat pengeluaran bulan depan\"\n"
   ]
  },
  {
   "cell_type": "markdown",
   "metadata": {},
   "source": [
    "## **Import Library**"
   ]
  },
  {
   "cell_type": "code",
   "execution_count": 19,
   "metadata": {},
   "outputs": [],
   "source": [
    "from langchain_core.prompts import ChatPromptTemplate\n",
    "from langchain_core.prompts import MessagesPlaceholder\n",
    "from langchain_core.output_parsers import JsonOutputParser\n",
    "from dotenv import load_dotenv\n",
    "from langchain_google_genai import ChatGoogleGenerativeAI\n",
    "from langchain_google_vertexai import ChatVertexAI\n",
    "from langchain_google_vertexai import VertexAIEmbeddings\n",
    "from langchain.tools import tool\n",
    "from langchain_chroma import Chroma\n",
    "from langchain_community.utilities import SQLDatabase\n",
    "from langchain_community.document_loaders import PyPDFLoader\n",
    "from langchain import hub\n",
    "from langchain.utilities import SQLDatabase\n",
    "from langchain.agents import create_sql_agent\n",
    "from langchain.agents.agent_toolkits import SQLDatabaseToolkit\n",
    "from langchain.agents.agent_types import AgentType\n",
    "\n",
    "from langchain_core.tools.retriever import create_retriever_tool\n",
    "from langchain_core.tools import Tool, StructuredTool\n",
    "\n",
    "import vertexai\n",
    "import os\n",
    "import pandas as pd\n",
    "import sqlite3\n",
    "import datetime"
   ]
  },
  {
   "cell_type": "markdown",
   "metadata": {},
   "source": [
    "## **Setup the environment**"
   ]
  },
  {
   "cell_type": "code",
   "execution_count": 2,
   "metadata": {},
   "outputs": [],
   "source": [
    "_ = load_dotenv()"
   ]
  },
  {
   "cell_type": "code",
   "execution_count": 3,
   "metadata": {},
   "outputs": [],
   "source": [
    "PROJECT_ID = os.getenv(\"PROJECT_ID\")\n",
    "LOCATION = os.getenv(\"LOCATION\")\n",
    "\n",
    "vertexai.init(project=PROJECT_ID, location=LOCATION)"
   ]
  },
  {
   "cell_type": "code",
   "execution_count": 4,
   "metadata": {},
   "outputs": [],
   "source": [
    "LANGCHAIN_TRACING_V2= os.getenv('LANGCHAIN_TRACING_V2')\n",
    "LANGCHAIN_ENDPOINT= os.getenv('LANGCHAIN_ENDPOINT')\n",
    "LANGCHAIN_API_KEY= os.getenv('LANGCHAIN_API_KEY')\n",
    "LANGCHAIN_PROJECT= os.getenv('LANGCHAIN_PROJECT')"
   ]
  },
  {
   "cell_type": "code",
   "execution_count": 310,
   "metadata": {},
   "outputs": [
    {
     "data": {
      "text/plain": [
       "AIMessage(content='Hi!', additional_kwargs={}, response_metadata={'prompt_feedback': {'block_reason': 0, 'safety_ratings': []}, 'finish_reason': 'STOP', 'safety_ratings': [{'category': 'HARM_CATEGORY_SEXUALLY_EXPLICIT', 'probability': 'NEGLIGIBLE', 'blocked': False}, {'category': 'HARM_CATEGORY_HATE_SPEECH', 'probability': 'NEGLIGIBLE', 'blocked': False}, {'category': 'HARM_CATEGORY_HARASSMENT', 'probability': 'NEGLIGIBLE', 'blocked': False}, {'category': 'HARM_CATEGORY_DANGEROUS_CONTENT', 'probability': 'NEGLIGIBLE', 'blocked': False}]}, id='run-8fdad757-6864-437b-bd22-be808e3bfeb4-0', usage_metadata={'input_tokens': 4, 'output_tokens': 2, 'total_tokens': 6, 'input_token_details': {'cache_read': 0}})"
      ]
     },
     "execution_count": 310,
     "metadata": {},
     "output_type": "execute_result"
    }
   ],
   "source": [
    "llm = ChatGoogleGenerativeAI(model=\"gemini-pro\")\n",
    "llm.invoke(\"Say Hi.\")"
   ]
  },
  {
   "cell_type": "code",
   "execution_count": 317,
   "metadata": {},
   "outputs": [
    {
     "data": {
      "text/plain": [
       "AIMessage(content='Hi! 👋  How can I help you today? 😊 \\n', additional_kwargs={}, response_metadata={'is_blocked': False, 'safety_ratings': [{'category': 'HARM_CATEGORY_HATE_SPEECH', 'probability_label': 'NEGLIGIBLE', 'probability_score': 0.032470703125, 'blocked': False, 'severity': 'HARM_SEVERITY_NEGLIGIBLE', 'severity_score': 0.03173828125}, {'category': 'HARM_CATEGORY_DANGEROUS_CONTENT', 'probability_label': 'NEGLIGIBLE', 'probability_score': 0.048828125, 'blocked': False, 'severity': 'HARM_SEVERITY_NEGLIGIBLE', 'severity_score': 0.046630859375}, {'category': 'HARM_CATEGORY_HARASSMENT', 'probability_label': 'NEGLIGIBLE', 'probability_score': 0.048095703125, 'blocked': False, 'severity': 'HARM_SEVERITY_NEGLIGIBLE', 'severity_score': 0.0169677734375}, {'category': 'HARM_CATEGORY_SEXUALLY_EXPLICIT', 'probability_label': 'NEGLIGIBLE', 'probability_score': 0.13671875, 'blocked': False, 'severity': 'HARM_SEVERITY_NEGLIGIBLE', 'severity_score': 0.0240478515625}], 'usage_metadata': {'prompt_token_count': 2, 'candidates_token_count': 14, 'total_token_count': 16, 'cached_content_token_count': 0}, 'finish_reason': 'STOP', 'avg_logprobs': -0.09357487303870064}, id='run-79ba82ad-738a-47c2-a020-e301469dd29a-0', usage_metadata={'input_tokens': 2, 'output_tokens': 14, 'total_tokens': 16})"
      ]
     },
     "execution_count": 317,
     "metadata": {},
     "output_type": "execute_result"
    }
   ],
   "source": [
    "llm = ChatVertexAI(\n",
    "    model=\"gemini-1.5-pro-001\",\n",
    "    temperature=0,\n",
    ")\n",
    "\n",
    "llm.invoke(\"Hi.\")"
   ]
  },
  {
   "cell_type": "markdown",
   "metadata": {},
   "source": [
    "## **Initial Setup Dummy Data Source**"
   ]
  },
  {
   "cell_type": "markdown",
   "metadata": {},
   "source": [
    "### 1. Create SQLite DB"
   ]
  },
  {
   "cell_type": "code",
   "execution_count": 56,
   "metadata": {},
   "outputs": [],
   "source": [
    "def initialize_db():\n",
    "    conn = sqlite3.connect(\"data/finance.db\")\n",
    "    cursor = conn.cursor()\n",
    "    cursor.execute(\"\"\"\n",
    "    CREATE TABLE IF NOT EXISTS budget_categories (\n",
    "        id INTEGER PRIMARY KEY,\n",
    "        category TEXT,\n",
    "        rules TEXT,\n",
    "        budget REAL\n",
    "    )\n",
    "    \"\"\")\n",
    "    conn.commit()\n",
    "    conn.close()\n",
    "\n",
    "initialize_db()"
   ]
  },
  {
   "cell_type": "markdown",
   "metadata": {},
   "source": [
    "Category yang akan digunakan (Bank Jago):\n",
    "Bills\n",
    "Education\n",
    "Entertainment\n",
    "Foods & Drinks\n",
    "Healthcare\n",
    "Shopping\n",
    "Social Events\n",
    "Topup \n",
    "Transportation\n",
    "Others"
   ]
  },
  {
   "cell_type": "code",
   "execution_count": 57,
   "metadata": {},
   "outputs": [],
   "source": [
    "def insert_budget_categories():\n",
    "    categories = [\n",
    "        (\"Bills\", \"cable tv, credit card, Electricity, Gas, Insurance, Internet, Landline, Maintencance Fee, Mobile & data, rent, Subcription, Water\", 1000000),\n",
    "        (\"Education\", \"tuition, books, courses\", 500000),\n",
    "        (\"Entertainment\", \"movies, concerts, subscriptions, vacation, streaming services, Hangout, Games, Hobby\", 300000),\n",
    "        (\"Foods & Drinks\", \"restaurants, cafes, Take outs\", 1500000),\n",
    "        (\"Healthcare\", \"Drugs/Medicine, Gym/Fitness, Medical fee, Personal care, Sports\", 800000),\n",
    "        (\"Shopping\", \"Fasion, electronics, accessories, Groceries, Gadget\", 700000),\n",
    "        (\"Social Events\", \"weddings, charity & donations, funeral, gifts\", 400000),\n",
    "        (\"Topup\", \"Brizzi BRI, Dana, Flazz BCA, GoPay, LinkAja, Mandiri E-Money, OVO, ShopeePay, TapCash\", 200000),\n",
    "        (\"Transportation\", \"Gasoline, public transport, tolls, Parking fee, Travel fares, Taxi/Ojol, Vehicle maintenance\", 500000),\n",
    "        (\"Others\", \"miscellaneous, undefined expenses\", 300000)\n",
    "    ]\n",
    "\n",
    "    conn = sqlite3.connect(\"data/finance.db\")\n",
    "    cursor = conn.cursor()  \n",
    "    cursor.executemany(\"\"\"\n",
    "    INSERT INTO budget_categories (category, rules, budget) VALUES (?, ?, ?)\n",
    "    \"\"\", categories)\n",
    "    conn.commit()\n",
    "    conn.close()\n",
    "\n",
    "\n",
    "insert_budget_categories()"
   ]
  },
  {
   "cell_type": "code",
   "execution_count": 58,
   "metadata": {},
   "outputs": [
    {
     "name": "stdout",
     "output_type": "stream",
     "text": [
      "sqlite\n",
      "['budget_categories']\n"
     ]
    }
   ],
   "source": [
    "db = SQLDatabase.from_uri(\"sqlite:///data/finance.db\")\n",
    "\n",
    "print(db.dialect)\n",
    "print(db.get_usable_table_names())"
   ]
  },
  {
   "cell_type": "code",
   "execution_count": 16,
   "metadata": {},
   "outputs": [],
   "source": [
    "agent_executor = create_sql_agent(\n",
    "    llm=llm,\n",
    "    toolkit=SQLDatabaseToolkit(db=db, llm=llm),\n",
    "    verbose=True,\n",
    "    agent_type=AgentType.ZERO_SHOT_REACT_DESCRIPTION\n",
    ")"
   ]
  },
  {
   "cell_type": "code",
   "execution_count": 18,
   "metadata": {},
   "outputs": [
    {
     "name": "stdout",
     "output_type": "stream",
     "text": [
      "\n",
      "\n",
      "\u001b[1m> Entering new SQL Agent Executor chain...\u001b[0m\n",
      "\u001b[32;1m\u001b[1;3mAction: sql_db_list_tables\n",
      "Action Input: \u001b[0m\u001b[38;5;200m\u001b[1;3mbudget_categories\u001b[0m\u001b[32;1m\u001b[1;3mThought: I should check the schema for the budget_categories table.\n",
      "Action: sql_db_schema\n",
      "Action Input: budget_categories\u001b[0m\u001b[33;1m\u001b[1;3m\n",
      "CREATE TABLE budget_categories (\n",
      "\tid INTEGER, \n",
      "\tcategory TEXT, \n",
      "\trules TEXT, \n",
      "\tbudget REAL, \n",
      "\tPRIMARY KEY (id)\n",
      ")\n",
      "\n",
      "/*\n",
      "3 rows from budget_categories table:\n",
      "id\tcategory\trules\tbudget\n",
      "1\tBills\tcable tv, credit card, Electricity, Gas, Insurance, Internet, Landline, Maintencance Fee, Mobile & d\t1000000.0\n",
      "2\tEducation\ttuition, books, courses\t500000.0\n",
      "3\tEntertainment\tmovies, concerts, subscriptions, vacation, streaming services, Hangout, Games, Hobby\t300000.0\n",
      "*/\u001b[0m\u001b[32;1m\u001b[1;3mThought: I can query the budget_categories table for the budget where the category is Bills.\n",
      "Action: sql_db_query_checker\n",
      "Action Input: SELECT budget FROM budget_categories WHERE category = 'Bills' LIMIT 1;\u001b[0m\u001b[36;1m\u001b[1;3m```sql\n",
      "SELECT budget FROM budget_categories WHERE category = 'Bills' LIMIT 1;\n",
      "```\u001b[0m\u001b[32;1m\u001b[1;3mAction: sql_db_query\n",
      "Action Input: SELECT budget FROM budget_categories WHERE category = 'Bills' LIMIT 1;\u001b[0m\u001b[36;1m\u001b[1;3m[(1000000.0,)]\u001b[0m\u001b[32;1m\u001b[1;3mThought: The budget for bills is 1000000.0\n",
      "Final Answer: 1000000.0\u001b[0m\n",
      "\n",
      "\u001b[1m> Finished chain.\u001b[0m\n"
     ]
    },
    {
     "data": {
      "text/plain": [
       "{'input': 'What is the budget for bills?', 'output': '1000000.0'}"
      ]
     },
     "execution_count": 18,
     "metadata": {},
     "output_type": "execute_result"
    }
   ],
   "source": [
    "agent_executor.invoke(\n",
    "    \"What is the budget for bills?\"\n",
    ")"
   ]
  },
  {
   "cell_type": "code",
   "execution_count": 19,
   "metadata": {},
   "outputs": [
    {
     "data": {
      "text/html": [
       "<div>\n",
       "<style scoped>\n",
       "    .dataframe tbody tr th:only-of-type {\n",
       "        vertical-align: middle;\n",
       "    }\n",
       "\n",
       "    .dataframe tbody tr th {\n",
       "        vertical-align: top;\n",
       "    }\n",
       "\n",
       "    .dataframe thead th {\n",
       "        text-align: right;\n",
       "    }\n",
       "</style>\n",
       "<table border=\"1\" class=\"dataframe\">\n",
       "  <thead>\n",
       "    <tr style=\"text-align: right;\">\n",
       "      <th></th>\n",
       "      <th>id</th>\n",
       "      <th>category</th>\n",
       "      <th>rules</th>\n",
       "      <th>budget</th>\n",
       "    </tr>\n",
       "  </thead>\n",
       "  <tbody>\n",
       "    <tr>\n",
       "      <th>0</th>\n",
       "      <td>1</td>\n",
       "      <td>Bills</td>\n",
       "      <td>cable tv, credit card, Electricity, Gas, Insur...</td>\n",
       "      <td>1000000.0</td>\n",
       "    </tr>\n",
       "    <tr>\n",
       "      <th>1</th>\n",
       "      <td>2</td>\n",
       "      <td>Education</td>\n",
       "      <td>tuition, books, courses</td>\n",
       "      <td>500000.0</td>\n",
       "    </tr>\n",
       "    <tr>\n",
       "      <th>2</th>\n",
       "      <td>3</td>\n",
       "      <td>Entertainment</td>\n",
       "      <td>movies, concerts, subscriptions, vacation, str...</td>\n",
       "      <td>300000.0</td>\n",
       "    </tr>\n",
       "    <tr>\n",
       "      <th>3</th>\n",
       "      <td>4</td>\n",
       "      <td>Foods &amp; Drinks</td>\n",
       "      <td>restaurants, cafes, Take outs</td>\n",
       "      <td>1500000.0</td>\n",
       "    </tr>\n",
       "    <tr>\n",
       "      <th>4</th>\n",
       "      <td>5</td>\n",
       "      <td>Healthcare</td>\n",
       "      <td>Drugs/Medicine, Gym/Fitness, Medical fee, Pers...</td>\n",
       "      <td>800000.0</td>\n",
       "    </tr>\n",
       "    <tr>\n",
       "      <th>5</th>\n",
       "      <td>6</td>\n",
       "      <td>Shopping</td>\n",
       "      <td>Fasion, electronics, accessories, Groceries, G...</td>\n",
       "      <td>700000.0</td>\n",
       "    </tr>\n",
       "    <tr>\n",
       "      <th>6</th>\n",
       "      <td>7</td>\n",
       "      <td>Social Events</td>\n",
       "      <td>weddings, charity &amp; donations, funeral, gifts</td>\n",
       "      <td>400000.0</td>\n",
       "    </tr>\n",
       "    <tr>\n",
       "      <th>7</th>\n",
       "      <td>8</td>\n",
       "      <td>Topup</td>\n",
       "      <td>Brizzi BRI, Dana, Flazz BCA, GoPay, LinkAja, M...</td>\n",
       "      <td>200000.0</td>\n",
       "    </tr>\n",
       "    <tr>\n",
       "      <th>8</th>\n",
       "      <td>9</td>\n",
       "      <td>Transportation</td>\n",
       "      <td>Gasoline, public transport, tolls, Parking fee...</td>\n",
       "      <td>500000.0</td>\n",
       "    </tr>\n",
       "    <tr>\n",
       "      <th>9</th>\n",
       "      <td>10</td>\n",
       "      <td>Others</td>\n",
       "      <td>miscellaneous, undefined expenses</td>\n",
       "      <td>300000.0</td>\n",
       "    </tr>\n",
       "  </tbody>\n",
       "</table>\n",
       "</div>"
      ],
      "text/plain": [
       "   id        category                                              rules  \\\n",
       "0   1           Bills  cable tv, credit card, Electricity, Gas, Insur...   \n",
       "1   2       Education                            tuition, books, courses   \n",
       "2   3   Entertainment  movies, concerts, subscriptions, vacation, str...   \n",
       "3   4  Foods & Drinks                      restaurants, cafes, Take outs   \n",
       "4   5      Healthcare  Drugs/Medicine, Gym/Fitness, Medical fee, Pers...   \n",
       "5   6        Shopping  Fasion, electronics, accessories, Groceries, G...   \n",
       "6   7   Social Events      weddings, charity & donations, funeral, gifts   \n",
       "7   8           Topup  Brizzi BRI, Dana, Flazz BCA, GoPay, LinkAja, M...   \n",
       "8   9  Transportation  Gasoline, public transport, tolls, Parking fee...   \n",
       "9  10          Others                  miscellaneous, undefined expenses   \n",
       "\n",
       "      budget  \n",
       "0  1000000.0  \n",
       "1   500000.0  \n",
       "2   300000.0  \n",
       "3  1500000.0  \n",
       "4   800000.0  \n",
       "5   700000.0  \n",
       "6   400000.0  \n",
       "7   200000.0  \n",
       "8   500000.0  \n",
       "9   300000.0  "
      ]
     },
     "execution_count": 19,
     "metadata": {},
     "output_type": "execute_result"
    }
   ],
   "source": [
    "# query data\n",
    "def query_budget_categories():\n",
    "    conn = sqlite3.connect(\"data/finance.db\")\n",
    "    df = pd.read_sql_query(\"SELECT * FROM budget_categories\", conn)\n",
    "    conn.close()\n",
    "    return df\n",
    "\n",
    "query_budget_categories()"
   ]
  },
  {
   "cell_type": "markdown",
   "metadata": {},
   "source": [
    "### 2. Create Transaction Data"
   ]
  },
  {
   "cell_type": "code",
   "execution_count": 4,
   "metadata": {},
   "outputs": [],
   "source": [
    "import random \n",
    "from datetime import datetime, timedelta"
   ]
  },
  {
   "cell_type": "code",
   "execution_count": 9,
   "metadata": {},
   "outputs": [],
   "source": [
    "def generate_bank_transactions(num_transactions=30):  \n",
    "    # Definisikan kategori dan nominal  \n",
    "    categories = [  \n",
    "        (\"Bills\", \"cable tv, credit card, Electricity, Gas, Insurance, Internet, Landline, Maintenance Fee, Mobile & data, rent, Subscription, Water\", 1000000),  \n",
    "        (\"Education\", \"tuition, books, courses\", 500000),  \n",
    "        (\"Entertainment\", \"movies, concerts, subscriptions, vacation, streaming services, Hangout, Games, Hobby\", 300000),  \n",
    "        (\"Foods & Drinks\", \"restaurants, cafes, Take outs\", 1500000),  \n",
    "        (\"Healthcare\", \"Drugs/Medicine, Gym/Fitness, Medical fee, Personal care, Sports\", 800000),  \n",
    "        (\"Shopping\", \"Fashion, electronics, accessories, Groceries, Gadget\", 700000),  \n",
    "        (\"Social Events\", \"weddings, charity & donations, funeral, gifts\", 400000),  \n",
    "        (\"Topup\", \"Brizzi BRI, Dana, Flazz BCA, GoPay, LinkAja, Mandiri E-Money, OVO, ShopeePay, TapCash\", 200000),  \n",
    "        (\"Transportation\", \"Gasoline, public transport, tolls, Parking fee, Travel fares, Taxi/Ojol, Vehicle maintenance\", 500000),  \n",
    "        (\"Others\", \"miscellaneous, undefined expenses\", 300000)  \n",
    "    ]  \n",
    "  \n",
    "    # Buat list untuk menyimpan data transaksi  \n",
    "    data = []  \n",
    "  \n",
    "    # Generate data transaksi  \n",
    "    for i in range(num_transactions):  \n",
    "        # Pilih kategori secara acak  \n",
    "        category = random.choice(categories)  \n",
    "        # Tentukan tanggal transaksi  \n",
    "        date = datetime.now() - timedelta(days=random.randint(0, 30))  # 30 hari terakhir  \n",
    "        # Tambahkan data transaksi ke list  \n",
    "        data.append({  \n",
    "            \"Tanggal\": date.strftime(\"%Y-%m-%d\"),  \n",
    "            \"Nominal\": category[2],  \n",
    "            \"Kategori\": category[0],  \n",
    "            \"Keterangan\": category[1].split(',')[0]  # Hanya ambil nama kategori pertama  \n",
    "        })  \n",
    "  \n",
    "    # Buat DataFrame dari data transaksi  \n",
    "    df_transaksi = pd.DataFrame(data)  \n",
    "      \n",
    "    return df_transaksi  \n",
    "  \n",
    "# Panggil fungsi untuk menghasilkan data transaksi  \n",
    "df_transaksi = generate_bank_transactions(30)  \n"
   ]
  },
  {
   "cell_type": "code",
   "execution_count": 8,
   "metadata": {},
   "outputs": [],
   "source": [
    "df_transaksi.to_csv(\"data/transactions.csv\", index=False)"
   ]
  },
  {
   "cell_type": "code",
   "execution_count": 10,
   "metadata": {},
   "outputs": [
    {
     "data": {
      "text/html": [
       "<div>\n",
       "<style scoped>\n",
       "    .dataframe tbody tr th:only-of-type {\n",
       "        vertical-align: middle;\n",
       "    }\n",
       "\n",
       "    .dataframe tbody tr th {\n",
       "        vertical-align: top;\n",
       "    }\n",
       "\n",
       "    .dataframe thead th {\n",
       "        text-align: right;\n",
       "    }\n",
       "</style>\n",
       "<table border=\"1\" class=\"dataframe\">\n",
       "  <thead>\n",
       "    <tr style=\"text-align: right;\">\n",
       "      <th></th>\n",
       "      <th>Tanggal</th>\n",
       "      <th>Nominal</th>\n",
       "      <th>Kategori</th>\n",
       "      <th>Keterangan</th>\n",
       "    </tr>\n",
       "  </thead>\n",
       "  <tbody>\n",
       "    <tr>\n",
       "      <th>0</th>\n",
       "      <td>2024-12-17</td>\n",
       "      <td>800000</td>\n",
       "      <td>Healthcare</td>\n",
       "      <td>Drugs/Medicine</td>\n",
       "    </tr>\n",
       "    <tr>\n",
       "      <th>1</th>\n",
       "      <td>2024-12-17</td>\n",
       "      <td>300000</td>\n",
       "      <td>Entertainment</td>\n",
       "      <td>movies</td>\n",
       "    </tr>\n",
       "    <tr>\n",
       "      <th>2</th>\n",
       "      <td>2024-12-28</td>\n",
       "      <td>1000000</td>\n",
       "      <td>Bills</td>\n",
       "      <td>cable tv</td>\n",
       "    </tr>\n",
       "    <tr>\n",
       "      <th>3</th>\n",
       "      <td>2024-12-19</td>\n",
       "      <td>1500000</td>\n",
       "      <td>Foods &amp; Drinks</td>\n",
       "      <td>restaurants</td>\n",
       "    </tr>\n",
       "    <tr>\n",
       "      <th>4</th>\n",
       "      <td>2024-12-29</td>\n",
       "      <td>700000</td>\n",
       "      <td>Shopping</td>\n",
       "      <td>Fashion</td>\n",
       "    </tr>\n",
       "  </tbody>\n",
       "</table>\n",
       "</div>"
      ],
      "text/plain": [
       "      Tanggal  Nominal        Kategori      Keterangan\n",
       "0  2024-12-17   800000      Healthcare  Drugs/Medicine\n",
       "1  2024-12-17   300000   Entertainment          movies\n",
       "2  2024-12-28  1000000           Bills        cable tv\n",
       "3  2024-12-19  1500000  Foods & Drinks     restaurants\n",
       "4  2024-12-29   700000        Shopping         Fashion"
      ]
     },
     "execution_count": 10,
     "metadata": {},
     "output_type": "execute_result"
    }
   ],
   "source": [
    "df_transaksi.head()"
   ]
  },
  {
   "cell_type": "markdown",
   "metadata": {},
   "source": [
    "## **Processing**"
   ]
  },
  {
   "cell_type": "markdown",
   "metadata": {},
   "source": [
    "### Reciept Extractor"
   ]
  },
  {
   "cell_type": "code",
   "execution_count": 216,
   "metadata": {},
   "outputs": [],
   "source": [
    "example_text = \"\"\"\n",
    "NOTA PEMBELIAN  \n",
    "========================================================  \n",
    "Tanggal       : 19 Agustus 2023  \n",
    "Nomor Nota    : NP2023-0088  \n",
    "Pemasok       : PT Kopi Makmur  \n",
    "Alamat        : Jl. Pahlawan No. 45  \n",
    "Kota          : Bandung  \n",
    "Telepon       : (022) 9876-5432  \n",
    "  \n",
    "--------------------------------------------------------  \n",
    "No  Nama Kopi          Jumlah (Kg)  Harga Satuan   Total Harga  \n",
    "1.  Arabika Mandheling 10            Rp80.000       Rp 800.000  \n",
    "2.  Robusta Lampung    15            Rp65.000       Rp 975.000  \n",
    "3.  Liberika Aceh      5             Rp90.000       Rp 450.000  \n",
    "4.  Excelsa Sulawesi   8             Rp75.000       Rp 600.000  \n",
    "--------------------------------------------------------  \n",
    "Jumlah Pembelian      : Rp 2.825.000  \n",
    "Diskon (3%)          : Rp 84.750  \n",
    "Total Pembayaran     : Rp 2.740.250  \n",
    "--------------------------------------------------------  \n",
    "Metode Pembayaran    : Transfer Bank  \n",
    "--------------------------------------------------------  \n",
    "Terima kasih atas pembeliannya!  \n",
    "========================================================  \n",
    "Catatan: \n",
    "\"\"\""
   ]
  },
  {
   "cell_type": "code",
   "execution_count": 12,
   "metadata": {},
   "outputs": [
    {
     "name": "stdout",
     "output_type": "stream",
     "text": [
      "SUPERMARKET ABC\n",
      "Jl. Raya No. 123\n",
      "====================\n",
      "        \n",
      "Tanggal: 2024-01-15\n",
      "Waktu: 14:30\n",
      "        \n",
      "Item:\n",
      "1. Beras 5kg     Rp 65.000\n",
      "2. Telur 1kg     Rp 28.000\n",
      "3. Minyak 2L     Rp 45.000\n",
      "4. Gula 1kg      Rp 15.000\n",
      "5. Sabun         Rp 12.000\n",
      "        \n",
      "Total:          Rp 165.000\n",
      "       \n",
      "Terima kasih atas kunjungan Anda!\n",
      "\n"
     ]
    }
   ],
   "source": [
    "import pypdf \n",
    "\n",
    "def extract_text_from_pdf(pdf_path):   \n",
    "    reader = pypdf.PdfReader(pdf_path)  \n",
    "\n",
    "    extracted_text = \"\"  \n",
    "\n",
    "    for page in reader.pages:  \n",
    "        extracted_text += page.extract_text() + \"\\n\" \n",
    "  \n",
    "    return extracted_text  \n",
    "  \n",
    "receipt_path = \"data/reciept_1.pdf\"  \n",
    "text = extract_text_from_pdf(receipt_path)  \n",
    "print(text) "
   ]
  },
  {
   "cell_type": "code",
   "execution_count": 13,
   "metadata": {},
   "outputs": [
    {
     "name": "stdout",
     "output_type": "stream",
     "text": [
      "[Document(metadata={'source': 'data/reciept_1.pdf', 'page': 0}, page_content='SUPERMARKET ABC\\nJl. Raya No. 123\\n====================\\n        \\nTanggal: 2024-01-15\\nWaktu: 14:30\\n        \\nItem:\\n1. Beras 5kg     Rp 65.000\\n2. Telur 1kg     Rp 28.000\\n3. Minyak 2L     Rp 45.000\\n4. Gula 1kg      Rp 15.000\\n5. Sabun         Rp 12.000\\n        \\nTotal:          Rp 165.000\\n       \\nTerima kasih atas kunjungan Anda!')]\n"
     ]
    }
   ],
   "source": [
    "def extract_receipt(pdf_path):\n",
    "    loader = PyPDFLoader(pdf_path)\n",
    "\n",
    "    docs = loader.load()\n",
    "\n",
    "    return docs\n",
    "\n",
    "receipt_path = \"data/reciept_1.pdf\"\n",
    "receipt = extract_receipt(receipt_path) \n",
    "\n",
    "print(receipt)\n",
    "    "
   ]
  },
  {
   "cell_type": "code",
   "execution_count": 14,
   "metadata": {},
   "outputs": [],
   "source": [
    "embeddings = VertexAIEmbeddings(\n",
    "    model_name='text-multilingual-embedding-002'\n",
    ")"
   ]
  },
  {
   "cell_type": "code",
   "execution_count": 15,
   "metadata": {},
   "outputs": [],
   "source": [
    "vector_store = Chroma.from_documents(\n",
    "    receipt,\n",
    "    embeddings,\n",
    "    collection_name=\"receipts\",\n",
    "    persist_directory='data/'\n",
    ")\n",
    "\n",
    "reciept_retriever = vector_store.as_retriever(search_kwargs={\"k\": 1})"
   ]
  },
  {
   "cell_type": "code",
   "execution_count": 15,
   "metadata": {},
   "outputs": [],
   "source": [
    "docs = reciept_retriever.invoke('Saya beli apa saja?')"
   ]
  },
  {
   "cell_type": "code",
   "execution_count": 16,
   "metadata": {},
   "outputs": [
    {
     "data": {
      "text/plain": [
       "[Document(id='de402989-db5c-4877-bfc6-96e0834bce8b', metadata={'page': 0, 'source': 'data/reciept_1.pdf'}, page_content='SUPERMARKET ABC\\nJl. Raya No. 123\\n====================\\n        \\nTanggal: 2024-01-15\\nWaktu: 14:30\\n        \\nItem:\\n1. Beras 5kg     Rp 65.000\\n2. Telur 1kg     Rp 28.000\\n3. Minyak 2L     Rp 45.000\\n4. Gula 1kg      Rp 15.000\\n5. Sabun         Rp 12.000\\n        \\nTotal:          Rp 165.000\\n       \\nTerima kasih atas kunjungan Anda!')]"
      ]
     },
     "execution_count": 16,
     "metadata": {},
     "output_type": "execute_result"
    }
   ],
   "source": [
    "docs"
   ]
  },
  {
   "cell_type": "markdown",
   "metadata": {},
   "source": [
    "### Transaction Parser"
   ]
  },
  {
   "cell_type": "code",
   "execution_count": 59,
   "metadata": {},
   "outputs": [
    {
     "data": {
      "text/plain": [
       "'       Tanggal  Nominal        Kategori     Keterangan\\n0   2025-01-11   300000   Entertainment         movies\\n1   2025-01-07  1500000  Foods & Drinks    restaurants\\n2   2025-01-03   200000           Topup     Brizzi BRI\\n3   2025-01-14  1000000           Bills       cable tv\\n4   2025-01-11   500000       Education        tuition\\n5   2025-01-12   200000           Topup     Brizzi BRI\\n6   2024-12-21   300000          Others  miscellaneous\\n7   2025-01-10  1000000           Bills       cable tv\\n8   2025-01-16   400000               -       weddings\\n9   2025-01-08  1000000           Bills       cable tv\\n10  2024-12-28  1500000  Foods & Drinks    restaurants\\n11  2025-01-01  1500000  Foods & Drinks    restaurants\\n12  2024-12-21   500000               -        tuition\\n13  2025-01-06   500000  Transportation       Gasoline\\n14  2024-12-17   500000  Transportation       Gasoline\\n15  2024-12-24  1500000  Foods & Drinks    restaurants\\n16  2025-01-07   700000        Shopping        Fashion\\n17  2025-01-12   400000   Social Events       weddings\\n18  2025-01-14   300000          Others  miscellaneous\\n19  2024-12-28   700000        Shopping        Fashion\\n20  2024-12-27   200000           Topup     Brizzi BRI\\n21  2025-01-05   500000       Education        tuition\\n22  2024-12-23   300000          Others  miscellaneous\\n23  2024-12-26   200000           Topup     Brizzi BRI\\n24  2025-01-11   500000  Transportation       Gasoline\\n25  2024-12-19   300000   Entertainment         movies\\n26  2025-01-05   500000  Transportation       Gasoline\\n27  2024-12-17   200000           Topup     Brizzi BRI\\n28  2025-01-16  1000000               -       cable tv\\n29  2024-12-28   300000          Others  miscellaneous'"
      ]
     },
     "execution_count": 59,
     "metadata": {},
     "output_type": "execute_result"
    }
   ],
   "source": [
    "docs = pd.read_csv(\"data/transactions.csv\")\n",
    "\n",
    "docs.to_string()"
   ]
  },
  {
   "cell_type": "code",
   "execution_count": 60,
   "metadata": {},
   "outputs": [],
   "source": [
    "transaction_data = docs\n",
    "def query_budget_categories():\n",
    "    conn = sqlite3.connect(\"data/finance.db\")\n",
    "    df = pd.read_sql_query(\"SELECT budget, rules FROM budget_categories\", conn)\n",
    "    conn.close()\n",
    "    return df\n",
    "\n",
    "categories_data = query_budget_categories()"
   ]
  },
  {
   "cell_type": "code",
   "execution_count": 61,
   "metadata": {},
   "outputs": [
    {
     "name": "stderr",
     "output_type": "stream",
     "text": [
      "Retrying langchain_google_vertexai.chat_models._completion_with_retry.<locals>._completion_with_retry_inner in 4.0 seconds as it raised ServiceUnavailable: 503 recvmsg:Connection reset by peer.\n"
     ]
    },
    {
     "name": "stdout",
     "output_type": "stream",
     "text": [
      "[{'date': '2025-01-11', 'category': 'Entertainment', 'amount': 300000, 'description': 'movies'}, {'date': '2025-01-07', 'category': 'Foods & Drinks', 'amount': 1500000, 'description': 'restaurants'}, {'date': '2025-01-03', 'category': 'Topup', 'amount': 200000, 'description': 'Brizzi BRI'}, {'date': '2025-01-14', 'category': 'Bills', 'amount': 1000000, 'description': 'cable tv'}, {'date': '2025-01-11', 'category': 'Education', 'amount': 500000, 'description': 'tuition'}, {'date': '2025-01-12', 'category': 'Topup', 'amount': 200000, 'description': 'Brizzi BRI'}, {'date': '2024-12-21', 'category': 'Others', 'amount': 300000, 'description': 'miscellaneous'}, {'date': '2025-01-10', 'category': 'Bills', 'amount': 1000000, 'description': 'cable tv'}, {'date': '2025-01-16', 'category': 'Social Events', 'amount': 400000, 'description': 'weddings'}, {'date': '2025-01-08', 'category': 'Bills', 'amount': 1000000, 'description': 'cable tv'}, {'date': '2024-12-28', 'category': 'Foods & Drinks', 'amount': 1500000, 'description': 'restaurants'}, {'date': '2025-01-01', 'category': 'Foods & Drinks', 'amount': 1500000, 'description': 'restaurants'}, {'date': '2024-12-21', 'category': 'Education', 'amount': 500000, 'description': 'tuition'}, {'date': '2025-01-06', 'category': 'Transportation', 'amount': 500000, 'description': 'Gasoline'}, {'date': '2024-12-17', 'category': 'Transportation', 'amount': 500000, 'description': 'Gasoline'}, {'date': '2024-12-24', 'category': 'Foods & Drinks', 'amount': 1500000, 'description': 'restaurants'}, {'date': '2025-01-07', 'category': 'Shopping', 'amount': 700000, 'description': 'Fashion'}, {'date': '2025-01-12', 'category': 'Social Events', 'amount': 400000, 'description': 'weddings'}, {'date': '2025-01-14', 'category': 'Others', 'amount': 300000, 'description': 'miscellaneous'}, {'date': '2024-12-28', 'category': 'Shopping', 'amount': 700000, 'description': 'Fashion'}, {'date': '2024-12-27', 'category': 'Topup', 'amount': 200000, 'description': 'Brizzi BRI'}, {'date': '2025-01-05', 'category': 'Education', 'amount': 500000, 'description': 'tuition'}, {'date': '2024-12-23', 'category': 'Others', 'amount': 300000, 'description': 'miscellaneous'}, {'date': '2024-12-26', 'category': 'Topup', 'amount': 200000, 'description': 'Brizzi BRI'}, {'date': '2025-01-11', 'category': 'Transportation', 'amount': 500000, 'description': 'Gasoline'}, {'date': '2024-12-19', 'category': 'Entertainment', 'amount': 300000, 'description': 'movies'}, {'date': '2025-01-05', 'category': 'Transportation', 'amount': 500000, 'description': 'Gasoline'}, {'date': '2024-12-17', 'category': 'Topup', 'amount': 200000, 'description': 'Brizzi BRI'}, {'date': '2025-01-16', 'category': 'Bills', 'amount': 1000000, 'description': 'cable tv'}, {'date': '2024-12-28', 'category': 'Others', 'amount': 300000, 'description': 'miscellaneous'}]\n"
     ]
    }
   ],
   "source": [
    "template_prompt = \"\"\"\n",
    "Your task is to check the transactions have a categories or not. If the transaction dont have a category, you can assign a category to the transaction.\n",
    "In category have a rules, if the transaction have a keyword in the rules, you can assign the category to the transaction.\n",
    "\n",
    "here is the list of transactions:\n",
    "{transaction}\n",
    "\n",
    "Here is the list of categories:\n",
    "{categories}\n",
    "\n",
    "please answer in the following format json. always answer in the following format.\n",
    "{{\n",
    "    \"date\": <date>,\n",
    "    \"category\": <category>,\n",
    "    \"amount\": <amount>,\n",
    "    \"description\": <description>\n",
    "}}\n",
    "\"\"\"\n",
    "\n",
    "prompt = ChatPromptTemplate.from_template(template_prompt)\n",
    "output_parser = JsonOutputParser()\n",
    "\n",
    "chain = prompt | llm | output_parser\n",
    "\n",
    "response = chain.invoke({\n",
    "    \"transaction\": transaction_data,\n",
    "    \"categories\": categories_data\n",
    "})\n",
    "\n",
    "\n",
    "print(response)"
   ]
  },
  {
   "cell_type": "code",
   "execution_count": 24,
   "metadata": {},
   "outputs": [
    {
     "data": {
      "text/plain": [
       "list"
      ]
     },
     "execution_count": 24,
     "metadata": {},
     "output_type": "execute_result"
    }
   ],
   "source": [
    "type(response)"
   ]
  },
  {
   "cell_type": "code",
   "execution_count": 62,
   "metadata": {},
   "outputs": [
    {
     "data": {
      "text/html": [
       "<div>\n",
       "<style scoped>\n",
       "    .dataframe tbody tr th:only-of-type {\n",
       "        vertical-align: middle;\n",
       "    }\n",
       "\n",
       "    .dataframe tbody tr th {\n",
       "        vertical-align: top;\n",
       "    }\n",
       "\n",
       "    .dataframe thead th {\n",
       "        text-align: right;\n",
       "    }\n",
       "</style>\n",
       "<table border=\"1\" class=\"dataframe\">\n",
       "  <thead>\n",
       "    <tr style=\"text-align: right;\">\n",
       "      <th></th>\n",
       "      <th>date</th>\n",
       "      <th>category</th>\n",
       "      <th>amount</th>\n",
       "      <th>description</th>\n",
       "    </tr>\n",
       "  </thead>\n",
       "  <tbody>\n",
       "    <tr>\n",
       "      <th>0</th>\n",
       "      <td>2025-01-11</td>\n",
       "      <td>Entertainment</td>\n",
       "      <td>300000</td>\n",
       "      <td>movies</td>\n",
       "    </tr>\n",
       "    <tr>\n",
       "      <th>1</th>\n",
       "      <td>2025-01-07</td>\n",
       "      <td>Foods &amp; Drinks</td>\n",
       "      <td>1500000</td>\n",
       "      <td>restaurants</td>\n",
       "    </tr>\n",
       "    <tr>\n",
       "      <th>2</th>\n",
       "      <td>2025-01-03</td>\n",
       "      <td>Topup</td>\n",
       "      <td>200000</td>\n",
       "      <td>Brizzi BRI</td>\n",
       "    </tr>\n",
       "    <tr>\n",
       "      <th>3</th>\n",
       "      <td>2025-01-14</td>\n",
       "      <td>Bills</td>\n",
       "      <td>1000000</td>\n",
       "      <td>cable tv</td>\n",
       "    </tr>\n",
       "    <tr>\n",
       "      <th>4</th>\n",
       "      <td>2025-01-11</td>\n",
       "      <td>Education</td>\n",
       "      <td>500000</td>\n",
       "      <td>tuition</td>\n",
       "    </tr>\n",
       "    <tr>\n",
       "      <th>5</th>\n",
       "      <td>2025-01-12</td>\n",
       "      <td>Topup</td>\n",
       "      <td>200000</td>\n",
       "      <td>Brizzi BRI</td>\n",
       "    </tr>\n",
       "    <tr>\n",
       "      <th>6</th>\n",
       "      <td>2024-12-21</td>\n",
       "      <td>Others</td>\n",
       "      <td>300000</td>\n",
       "      <td>miscellaneous</td>\n",
       "    </tr>\n",
       "    <tr>\n",
       "      <th>7</th>\n",
       "      <td>2025-01-10</td>\n",
       "      <td>Bills</td>\n",
       "      <td>1000000</td>\n",
       "      <td>cable tv</td>\n",
       "    </tr>\n",
       "    <tr>\n",
       "      <th>8</th>\n",
       "      <td>2025-01-16</td>\n",
       "      <td>Social Events</td>\n",
       "      <td>400000</td>\n",
       "      <td>weddings</td>\n",
       "    </tr>\n",
       "    <tr>\n",
       "      <th>9</th>\n",
       "      <td>2025-01-08</td>\n",
       "      <td>Bills</td>\n",
       "      <td>1000000</td>\n",
       "      <td>cable tv</td>\n",
       "    </tr>\n",
       "    <tr>\n",
       "      <th>10</th>\n",
       "      <td>2024-12-28</td>\n",
       "      <td>Foods &amp; Drinks</td>\n",
       "      <td>1500000</td>\n",
       "      <td>restaurants</td>\n",
       "    </tr>\n",
       "    <tr>\n",
       "      <th>11</th>\n",
       "      <td>2025-01-01</td>\n",
       "      <td>Foods &amp; Drinks</td>\n",
       "      <td>1500000</td>\n",
       "      <td>restaurants</td>\n",
       "    </tr>\n",
       "    <tr>\n",
       "      <th>12</th>\n",
       "      <td>2024-12-21</td>\n",
       "      <td>Education</td>\n",
       "      <td>500000</td>\n",
       "      <td>tuition</td>\n",
       "    </tr>\n",
       "    <tr>\n",
       "      <th>13</th>\n",
       "      <td>2025-01-06</td>\n",
       "      <td>Transportation</td>\n",
       "      <td>500000</td>\n",
       "      <td>Gasoline</td>\n",
       "    </tr>\n",
       "    <tr>\n",
       "      <th>14</th>\n",
       "      <td>2024-12-17</td>\n",
       "      <td>Transportation</td>\n",
       "      <td>500000</td>\n",
       "      <td>Gasoline</td>\n",
       "    </tr>\n",
       "    <tr>\n",
       "      <th>15</th>\n",
       "      <td>2024-12-24</td>\n",
       "      <td>Foods &amp; Drinks</td>\n",
       "      <td>1500000</td>\n",
       "      <td>restaurants</td>\n",
       "    </tr>\n",
       "    <tr>\n",
       "      <th>16</th>\n",
       "      <td>2025-01-07</td>\n",
       "      <td>Shopping</td>\n",
       "      <td>700000</td>\n",
       "      <td>Fashion</td>\n",
       "    </tr>\n",
       "    <tr>\n",
       "      <th>17</th>\n",
       "      <td>2025-01-12</td>\n",
       "      <td>Social Events</td>\n",
       "      <td>400000</td>\n",
       "      <td>weddings</td>\n",
       "    </tr>\n",
       "    <tr>\n",
       "      <th>18</th>\n",
       "      <td>2025-01-14</td>\n",
       "      <td>Others</td>\n",
       "      <td>300000</td>\n",
       "      <td>miscellaneous</td>\n",
       "    </tr>\n",
       "    <tr>\n",
       "      <th>19</th>\n",
       "      <td>2024-12-28</td>\n",
       "      <td>Shopping</td>\n",
       "      <td>700000</td>\n",
       "      <td>Fashion</td>\n",
       "    </tr>\n",
       "    <tr>\n",
       "      <th>20</th>\n",
       "      <td>2024-12-27</td>\n",
       "      <td>Topup</td>\n",
       "      <td>200000</td>\n",
       "      <td>Brizzi BRI</td>\n",
       "    </tr>\n",
       "    <tr>\n",
       "      <th>21</th>\n",
       "      <td>2025-01-05</td>\n",
       "      <td>Education</td>\n",
       "      <td>500000</td>\n",
       "      <td>tuition</td>\n",
       "    </tr>\n",
       "    <tr>\n",
       "      <th>22</th>\n",
       "      <td>2024-12-23</td>\n",
       "      <td>Others</td>\n",
       "      <td>300000</td>\n",
       "      <td>miscellaneous</td>\n",
       "    </tr>\n",
       "    <tr>\n",
       "      <th>23</th>\n",
       "      <td>2024-12-26</td>\n",
       "      <td>Topup</td>\n",
       "      <td>200000</td>\n",
       "      <td>Brizzi BRI</td>\n",
       "    </tr>\n",
       "    <tr>\n",
       "      <th>24</th>\n",
       "      <td>2025-01-11</td>\n",
       "      <td>Transportation</td>\n",
       "      <td>500000</td>\n",
       "      <td>Gasoline</td>\n",
       "    </tr>\n",
       "    <tr>\n",
       "      <th>25</th>\n",
       "      <td>2024-12-19</td>\n",
       "      <td>Entertainment</td>\n",
       "      <td>300000</td>\n",
       "      <td>movies</td>\n",
       "    </tr>\n",
       "    <tr>\n",
       "      <th>26</th>\n",
       "      <td>2025-01-05</td>\n",
       "      <td>Transportation</td>\n",
       "      <td>500000</td>\n",
       "      <td>Gasoline</td>\n",
       "    </tr>\n",
       "    <tr>\n",
       "      <th>27</th>\n",
       "      <td>2024-12-17</td>\n",
       "      <td>Topup</td>\n",
       "      <td>200000</td>\n",
       "      <td>Brizzi BRI</td>\n",
       "    </tr>\n",
       "    <tr>\n",
       "      <th>28</th>\n",
       "      <td>2025-01-16</td>\n",
       "      <td>Bills</td>\n",
       "      <td>1000000</td>\n",
       "      <td>cable tv</td>\n",
       "    </tr>\n",
       "    <tr>\n",
       "      <th>29</th>\n",
       "      <td>2024-12-28</td>\n",
       "      <td>Others</td>\n",
       "      <td>300000</td>\n",
       "      <td>miscellaneous</td>\n",
       "    </tr>\n",
       "  </tbody>\n",
       "</table>\n",
       "</div>"
      ],
      "text/plain": [
       "          date        category   amount    description\n",
       "0   2025-01-11   Entertainment   300000         movies\n",
       "1   2025-01-07  Foods & Drinks  1500000    restaurants\n",
       "2   2025-01-03           Topup   200000     Brizzi BRI\n",
       "3   2025-01-14           Bills  1000000       cable tv\n",
       "4   2025-01-11       Education   500000        tuition\n",
       "5   2025-01-12           Topup   200000     Brizzi BRI\n",
       "6   2024-12-21          Others   300000  miscellaneous\n",
       "7   2025-01-10           Bills  1000000       cable tv\n",
       "8   2025-01-16   Social Events   400000       weddings\n",
       "9   2025-01-08           Bills  1000000       cable tv\n",
       "10  2024-12-28  Foods & Drinks  1500000    restaurants\n",
       "11  2025-01-01  Foods & Drinks  1500000    restaurants\n",
       "12  2024-12-21       Education   500000        tuition\n",
       "13  2025-01-06  Transportation   500000       Gasoline\n",
       "14  2024-12-17  Transportation   500000       Gasoline\n",
       "15  2024-12-24  Foods & Drinks  1500000    restaurants\n",
       "16  2025-01-07        Shopping   700000        Fashion\n",
       "17  2025-01-12   Social Events   400000       weddings\n",
       "18  2025-01-14          Others   300000  miscellaneous\n",
       "19  2024-12-28        Shopping   700000        Fashion\n",
       "20  2024-12-27           Topup   200000     Brizzi BRI\n",
       "21  2025-01-05       Education   500000        tuition\n",
       "22  2024-12-23          Others   300000  miscellaneous\n",
       "23  2024-12-26           Topup   200000     Brizzi BRI\n",
       "24  2025-01-11  Transportation   500000       Gasoline\n",
       "25  2024-12-19   Entertainment   300000         movies\n",
       "26  2025-01-05  Transportation   500000       Gasoline\n",
       "27  2024-12-17           Topup   200000     Brizzi BRI\n",
       "28  2025-01-16           Bills  1000000       cable tv\n",
       "29  2024-12-28          Others   300000  miscellaneous"
      ]
     },
     "execution_count": 62,
     "metadata": {},
     "output_type": "execute_result"
    }
   ],
   "source": [
    "transaction_clean = pd.DataFrame(response)\n",
    "\n",
    "transaction_clean"
   ]
  },
  {
   "cell_type": "code",
   "execution_count": 88,
   "metadata": {},
   "outputs": [],
   "source": [
    "# save to database\n",
    "def initialize_transaction_table():\n",
    "    conn = sqlite3.connect(\"data/finance.db\")\n",
    "    cursor = conn.cursor()\n",
    "    cursor.execute(\"\"\"\n",
    "    CREATE TABLE IF NOT EXISTS transactions (\n",
    "        id INTEGER PRIMARY KEY,\n",
    "        date DATE,\n",
    "        amount REAL,\n",
    "        description TEXT,\n",
    "        category TEXT\n",
    "    )\n",
    "    \"\"\")\n",
    "    conn.commit()\n",
    "    conn.close()"
   ]
  },
  {
   "cell_type": "code",
   "execution_count": 89,
   "metadata": {},
   "outputs": [],
   "source": [
    "def save_transactions_to_db(transactions_df):\n",
    "    \"\"\"\n",
    "    Save processed transactions to SQLite database\n",
    "    \"\"\"\n",
    "    conn = sqlite3.connect(\"data/finance.db\")\n",
    "    \n",
    "    # Convert the 'date' column to datetime and handle invalid dates\n",
    "    transactions_df['date'] = pd.to_datetime(transactions_df['date'], errors='coerce')\n",
    "    transactions_df = transactions_df.dropna(subset=['date'])  # Remove rows with invalid dates\n",
    "    transactions_df['date'] = transactions_df['date'].dt.strftime('%Y-%m-%d')  # Format date for SQLite\n",
    "    \n",
    "    # Save to the database\n",
    "    transactions_df.to_sql('transactions', \n",
    "                          conn, \n",
    "                          if_exists='append', \n",
    "                          index=False)\n",
    "    \n",
    "    conn.close()\n",
    "    return len(transactions_df)\n"
   ]
  },
  {
   "cell_type": "code",
   "execution_count": 90,
   "metadata": {},
   "outputs": [
    {
     "data": {
      "text/plain": [
       "30"
      ]
     },
     "execution_count": 90,
     "metadata": {},
     "output_type": "execute_result"
    }
   ],
   "source": [
    "initialize_transaction_table()\n",
    "save_transactions_to_db(transaction_clean)"
   ]
  },
  {
   "cell_type": "code",
   "execution_count": 91,
   "metadata": {},
   "outputs": [
    {
     "name": "stdout",
     "output_type": "stream",
     "text": [
      "[('budget_categories',), ('transactions',)]\n"
     ]
    }
   ],
   "source": [
    "# cek db\n",
    "conn = sqlite3.connect(\"data/finance.db\")\n",
    "\n",
    "# cek ada table apa saja\n",
    "cursor = conn.cursor()\n",
    "cursor.execute(\"SELECT name FROM sqlite_master WHERE type='table';\")\n",
    "print(cursor.fetchall())"
   ]
  },
  {
   "cell_type": "markdown",
   "metadata": {},
   "source": [
    "## Defining Tools"
   ]
  },
  {
   "cell_type": "code",
   "execution_count": 92,
   "metadata": {},
   "outputs": [
    {
     "name": "stdout",
     "output_type": "stream",
     "text": [
      "the current date and time is: 2025-01-17 04:38:25\n"
     ]
    }
   ],
   "source": [
    "now = datetime.datetime.now()\n",
    "\n",
    "print(f'the current date and time is: {now.strftime(\"%Y-%m-%d %H:%M:%S\")}')"
   ]
  },
  {
   "cell_type": "code",
   "execution_count": 93,
   "metadata": {},
   "outputs": [],
   "source": [
    "def current_datetime_tool(query: str) -> str:\n",
    "    \"\"\"Return the current date and time based on location\"\"\"\n",
    "    now = datetime.datetime.now()\n",
    "    return f\"The current date and time is: {now.strftime('%Y-%m-%d %H:%M:%S')}\"    "
   ]
  },
  {
   "cell_type": "code",
   "execution_count": 110,
   "metadata": {},
   "outputs": [
    {
     "data": {
      "text/html": [
       "<div>\n",
       "<style scoped>\n",
       "    .dataframe tbody tr th:only-of-type {\n",
       "        vertical-align: middle;\n",
       "    }\n",
       "\n",
       "    .dataframe tbody tr th {\n",
       "        vertical-align: top;\n",
       "    }\n",
       "\n",
       "    .dataframe thead th {\n",
       "        text-align: right;\n",
       "    }\n",
       "</style>\n",
       "<table border=\"1\" class=\"dataframe\">\n",
       "  <thead>\n",
       "    <tr style=\"text-align: right;\">\n",
       "      <th></th>\n",
       "      <th>Tanggal</th>\n",
       "      <th>Nominal</th>\n",
       "      <th>Kategori</th>\n",
       "      <th>Keterangan</th>\n",
       "    </tr>\n",
       "  </thead>\n",
       "  <tbody>\n",
       "    <tr>\n",
       "      <th>1</th>\n",
       "      <td>2025-01-07</td>\n",
       "      <td>1500000</td>\n",
       "      <td>Foods &amp; Drinks</td>\n",
       "      <td>restaurants</td>\n",
       "    </tr>\n",
       "    <tr>\n",
       "      <th>10</th>\n",
       "      <td>2024-12-28</td>\n",
       "      <td>1500000</td>\n",
       "      <td>Foods &amp; Drinks</td>\n",
       "      <td>restaurants</td>\n",
       "    </tr>\n",
       "    <tr>\n",
       "      <th>11</th>\n",
       "      <td>2025-01-01</td>\n",
       "      <td>1500000</td>\n",
       "      <td>Foods &amp; Drinks</td>\n",
       "      <td>restaurants</td>\n",
       "    </tr>\n",
       "    <tr>\n",
       "      <th>15</th>\n",
       "      <td>2024-12-24</td>\n",
       "      <td>1500000</td>\n",
       "      <td>Foods &amp; Drinks</td>\n",
       "      <td>restaurants</td>\n",
       "    </tr>\n",
       "  </tbody>\n",
       "</table>\n",
       "</div>"
      ],
      "text/plain": [
       "       Tanggal  Nominal        Kategori   Keterangan\n",
       "1   2025-01-07  1500000  Foods & Drinks  restaurants\n",
       "10  2024-12-28  1500000  Foods & Drinks  restaurants\n",
       "11  2025-01-01  1500000  Foods & Drinks  restaurants\n",
       "15  2024-12-24  1500000  Foods & Drinks  restaurants"
      ]
     },
     "execution_count": 110,
     "metadata": {},
     "output_type": "execute_result"
    }
   ],
   "source": [
    "from pandasai import SmartDataframe\n",
    "from pandasai.llm import GoogleVertexAI\n",
    "\n",
    "df = SmartDataframe('data/transactions.csv', config={'llm': llm})"
   ]
  },
  {
   "cell_type": "code",
   "execution_count": 113,
   "metadata": {},
   "outputs": [
    {
     "data": {
      "text/plain": [
       "'/media/daffaa/Wudapp/Kazee-test/exports/charts/temp_chart.png'"
      ]
     },
     "execution_count": 113,
     "metadata": {},
     "output_type": "execute_result"
    },
    {
     "name": "stderr",
     "output_type": "stream",
     "text": [
      "/snap/core20/current/lib/x86_64-linux-gnu/libstdc++.so.6: version `GLIBCXX_3.4.29' not found (required by /lib/x86_64-linux-gnu/libproxy.so.1)\n",
      "Failed to load module: /home/daffaa/snap/code/common/.cache/gio-modules/libgiolibproxy.so\n",
      "eog: symbol lookup error: /snap/core20/current/lib/x86_64-linux-gnu/libpthread.so.0: undefined symbol: __libc_pthread_init, version GLIBC_PRIVATE\n"
     ]
    },
    {
     "data": {
      "image/png": "[encoded data removed]",
      "text/plain": [
       "<Figure size 1000x600 with 1 Axes>"
      ]
     },
     "metadata": {},
     "output_type": "display_data"
    },
    {
     "data": {
      "image/png": "[encoded data removed]",
      "text/plain": [
       "<Figure size 1000x600 with 1 Axes>"
      ]
     },
     "metadata": {},
     "output_type": "display_data"
    }
   ],
   "source": [
    "df.chat('Visualisasi pengeluaran berdasarkan kagegori')"
   ]
  },
  {
   "cell_type": "markdown",
   "metadata": {},
   "source": [
    "### 1. Data Visualisasi Tools"
   ]
  },
  {
   "cell_type": "code",
   "execution_count": 114,
   "metadata": {},
   "outputs": [],
   "source": [
    "from pandasai.connectors import SqliteConnector\n",
    "\n",
    "def transaction_data(query: str):\n",
    "    \"\"\n",
    "    connector = SqliteConnector(\n",
    "        config={\n",
    "            'database': 'data/finance.db',\n",
    "            'table': 'transactions'\n",
    "        }\n",
    "    )\n",
    "\n",
    "\n",
    "    df = SmartDataframe(connector, config={'llm': llm})\n",
    "\n",
    "    response = df.chat(query)\n",
    "\n",
    "    return response"
   ]
  },
  {
   "cell_type": "code",
   "execution_count": 226,
   "metadata": {},
   "outputs": [],
   "source": [
    "def get_data_transaction(query: str) -> str:\n",
    "    \"\"\"Get the user transaction data\"\"\"\n",
    "    conn = sqlite3.connect(\"data/finance.db\")\n",
    "    df = pd.read_sql_query(\"SELECT * FROM transactions\", conn)\n",
    "    conn.close()\n",
    "    transaction_data = df.to_string()\n",
    "    \n",
    "    return transaction_data"
   ]
  },
  {
   "cell_type": "markdown",
   "metadata": {},
   "source": [
    "### 2. Monthly Report Generator"
   ]
  },
  {
   "cell_type": "code",
   "execution_count": 227,
   "metadata": {},
   "outputs": [],
   "source": [
    "def monthly_report(transaction_data: str, user_interaction: str) -> str: \n",
    "    \"\"\"Generate monthly report from the transactions data\"\"\"\n",
    "    messages = [\n",
    "        (\n",
    "            \"system\",\n",
    "            \"You are a helpfull assistant that can help to generate monthly report from the transactions data\"\n",
    "        ),\n",
    "        ('human', f'Transaction Data: {transaction_data}\\n User Instruction: {user_interaction}'),\n",
    "    ]\n",
    "\n",
    "    response = llm.invoke(messages)\n",
    "    return response.content"
   ]
  },
  {
   "cell_type": "markdown",
   "metadata": {},
   "source": [
    "### 3. Rekomendasi Penghematan"
   ]
  },
  {
   "cell_type": "code",
   "execution_count": 265,
   "metadata": {},
   "outputs": [],
   "source": [
    "def recomendation_savings(transaction_data: str, struk_belanja: str, user_interaction: str) -> str:\n",
    "    \"\"\"Generate recommendation savings from the transaction data or struk belanja\"\"\"\n",
    "    messages = [\n",
    "        (\n",
    "            \"system\",\n",
    "            \"You are a helpfull assistant that can help to generate recommendation savings from the transaction data or struk belanja\"\n",
    "        ),\n",
    "        ('human', f'Transaction Data: {transaction_data}\\nStruk Belanja: {struk_belanja}\\nUser Instruction: {user_interaction}'),\n",
    "    ]\n",
    "\n",
    "    response = llm.invoke(messages)\n",
    "    return response.content"
   ]
  },
  {
   "cell_type": "code",
   "execution_count": 266,
   "metadata": {},
   "outputs": [],
   "source": [
    "from langchain.tools import StructuredTool"
   ]
  },
  {
   "cell_type": "code",
   "execution_count": 267,
   "metadata": {},
   "outputs": [],
   "source": [
    "# from pydantic import BaseModel, Field\n",
    "\n",
    "# class RecomentationSavingsInput(BaseModel):\n",
    "#     transaction_data: str = Field(description='Transaction Data')\n",
    "#     struk_belanja: str = Field(description='Struk Belanja or Shopping List')\n",
    "#     user_interaction: str = Field(description='User instruction to the assistant')"
   ]
  },
  {
   "cell_type": "code",
   "execution_count": 311,
   "metadata": {},
   "outputs": [],
   "source": [
    "tool_strukbelanja_information = create_retriever_tool(\n",
    "    retriever=reciept_retriever,\n",
    "    name='StrukBelanjaRetriever',\n",
    "    description='Retrieve information about the shopping receipt/struk belanja with user instruction/input'\n",
    ")\n",
    "\n",
    "tool_transaction_data = Tool(\n",
    "    name='TransactionData',\n",
    "    func=get_data_transaction,\n",
    "    description='Get the user transaction data'\n",
    ")\n",
    "\n",
    "tool_monthly_report = StructuredTool.from_function(\n",
    "    name='MonthlyReport',\n",
    "    func=monthly_report,\n",
    "    description='Generate monthly report from the transactions data'\n",
    ")\n",
    "\n",
    "tool_recomendation_savings = StructuredTool.from_function(\n",
    "    name='RecommendationSavings',\n",
    "    description='Generate recommendation savings from the transaction data or struk belanja based on user interaction',\n",
    "    func=recomendation_savings,\n",
    ")\n",
    "\n",
    "tool_date_time = Tool(\n",
    "    name='CurrentDateTime',\n",
    "    func=current_datetime_tool,\n",
    "    description='Return the current date and time'\n",
    ")\n"
   ]
  },
  {
   "cell_type": "code",
   "execution_count": 312,
   "metadata": {},
   "outputs": [],
   "source": [
    "tools = [\n",
    "    tool_strukbelanja_information,\n",
    "    tool_date_time,\n",
    "    tool_transaction_data,\n",
    "    tool_monthly_report,\n",
    "    tool_recomendation_savings\n",
    "]"
   ]
  },
  {
   "cell_type": "markdown",
   "metadata": {},
   "source": [
    "## Create Agent"
   ]
  },
  {
   "cell_type": "code",
   "execution_count": 318,
   "metadata": {},
   "outputs": [],
   "source": [
    "main_prompt = \"\"\"You are a financial assistant that answer about financial questions. You can use the following tools:\n",
    "CurrentDateTime, StrukBelanjaRetriever, TransactionData, MonthlyReport, RecommendationSavings.\n",
    "\n",
    "To use MontlyReport and RecommendationSavings tools, you have to USE TransactionData and StrukBelanjaRetriever tools first.\n",
    "\n",
    "If the user ask about saving recommendation, you have to use TransactionData and StrukBelanjaRetriever tools to get the data and generate the recommendation.\n",
    "If the user ask about monthly report, you have to use TransactionData tool and then use MonthlyReport tool to generate comphrensive montly report.\n",
    "\n",
    "Please use the following format to answer:\n",
    "{{\n",
    "    \"response\": <response>\n",
    "}}\n",
    "\n",
    "\"\"\""
   ]
  },
  {
   "cell_type": "code",
   "execution_count": 319,
   "metadata": {},
   "outputs": [],
   "source": [
    "prompt = ChatPromptTemplate.from_messages(\n",
    "    [\n",
    "        (\"system\", main_prompt),\n",
    "        MessagesPlaceholder('chat_history', optional=True),\n",
    "        (\"human\", \"{input}\"),\n",
    "        MessagesPlaceholder(\"agent_scratchpad\")\n",
    "    ]\n",
    ")"
   ]
  },
  {
   "cell_type": "code",
   "execution_count": 325,
   "metadata": {},
   "outputs": [],
   "source": [
    "from langchain.agents import create_tool_calling_agent, AgentExecutor, create_react_agent\n",
    "\n",
    "agent = create_react_agent(\n",
    "    llm, tools=tools, prompt=prompt\n",
    ")\n",
    "\n",
    "agent_executor = AgentExecutor(agent=agent, tools=tools, verbose=True)"
   ]
  },
  {
   "cell_type": "code",
   "execution_count": null,
   "metadata": {},
   "outputs": [
    {
     "name": "stdout",
     "output_type": "stream",
     "text": [
      "\n",
      "\n",
      "\u001b[1m> Entering new AgentExecutor chain...\u001b[0m\n",
      "\u001b[32;1m\u001b[1;3m\n",
      "Invoking: `TransactionData` with `{'transaction_data': 'unknown'}`\n",
      "\n",
      "\n",
      "\u001b[0m\u001b[38;5;200m\u001b[1;3m    id        date     amount    description        category\n",
      "0    1  2025-01-11   300000.0         movies   Entertainment\n",
      "1    2  2025-01-07  1500000.0    restaurants  Foods & Drinks\n",
      "2    3  2025-01-03   200000.0     Brizzi BRI           Topup\n",
      "3    4  2025-01-14  1000000.0       cable tv           Bills\n",
      "4    5  2025-01-11   500000.0        tuition       Education\n",
      "5    6  2025-01-12   200000.0     Brizzi BRI           Topup\n",
      "6    7  2024-12-21   300000.0  miscellaneous          Others\n",
      "7    8  2025-01-10  1000000.0       cable tv           Bills\n",
      "8    9  2025-01-16   400000.0       weddings   Social Events\n",
      "9   10  2025-01-08  1000000.0       cable tv           Bills\n",
      "10  11  2024-12-28  1500000.0    restaurants  Foods & Drinks\n",
      "11  12  2025-01-01  1500000.0    restaurants  Foods & Drinks\n",
      "12  13  2024-12-21   500000.0        tuition       Education\n",
      "13  14  2025-01-06   500000.0       Gasoline  Transportation\n",
      "14  15  2024-12-17   500000.0       Gasoline  Transportation\n",
      "15  16  2024-12-24  1500000.0    restaurants  Foods & Drinks\n",
      "16  17  2025-01-07   700000.0        Fashion        Shopping\n",
      "17  18  2025-01-12   400000.0       weddings   Social Events\n",
      "18  19  2025-01-14   300000.0  miscellaneous          Others\n",
      "19  20  2024-12-28   700000.0        Fashion        Shopping\n",
      "20  21  2024-12-27   200000.0     Brizzi BRI           Topup\n",
      "21  22  2025-01-05   500000.0        tuition       Education\n",
      "22  23  2024-12-23   300000.0  miscellaneous          Others\n",
      "23  24  2024-12-26   200000.0     Brizzi BRI           Topup\n",
      "24  25  2025-01-11   500000.0       Gasoline  Transportation\n",
      "25  26  2024-12-19   300000.0         movies   Entertainment\n",
      "26  27  2025-01-05   500000.0       Gasoline  Transportation\n",
      "27  28  2024-12-17   200000.0     Brizzi BRI           Topup\n",
      "28  29  2025-01-16  1000000.0       cable tv           Bills\n",
      "29  30  2024-12-28   300000.0  miscellaneous          Others\u001b[0m\u001b[32;1m\u001b[1;3m\n",
      "Invoking: `StrukBelanjaRetriever` with `{'query': 'unknown'}`\n",
      "\n",
      "\n",
      "\u001b[0m\u001b[36;1m\u001b[1;3mSUPERMARKET ABC\n",
      "Jl. Raya No. 123\n",
      "====================\n",
      "        \n",
      "Tanggal: 2024-01-15\n",
      "Waktu: 14:30\n",
      "        \n",
      "Item:\n",
      "1. Beras 5kg     Rp 65.000\n",
      "2. Telur 1kg     Rp 28.000\n",
      "3. Minyak 2L     Rp 45.000\n",
      "4. Gula 1kg      Rp 15.000\n",
      "5. Sabun         Rp 12.000\n",
      "        \n",
      "Total:          Rp 165.000\n",
      "       \n",
      "Terima kasih atas kunjungan Anda!\u001b[0m\u001b[32;1m\u001b[1;3m\n",
      "Invoking: `RecommendationSavings` with `{'struk_belanja': 'unknown', 'user_interaction': 'Analisis transksi saya, dan berikan cara pengehematan bulan depannya', 'transaction_data': 'unknown'}`\n",
      "\n",
      "\n",
      "\u001b[0m\u001b[33;1m\u001b[1;3mMaaf, aku memerlukan informasi lebih lanjut untuk bisa menganalisis transaksi dan memberikan rekomendasi penghematan. \n",
      "\n",
      "Tolong berikan saya data transaksi atau struk belanja kamu.  Informasi yang lebih detail akan membantuku memberikan saran yang lebih personal dan efektif. \n",
      "\n",
      "Contoh informasi yang berguna:\n",
      "\n",
      "* **Daftar barang yang dibeli:**  Sebutkan barang-barang yang biasanya kamu beli setiap bulan, beserta harganya.\n",
      "* **Frekuensi pembelian:**  Seberapa sering kamu membeli barang-barang tersebut? \n",
      "* **Tempat pembelian:** Apakah kamu  membeli barang di supermarket, pasar tradisional, atau toko online?\n",
      "* **Metode pembayaran:** Apakah kamu  cenderung menggunakan uang tunai, kartu debit, atau kartu kredit?\n",
      "\n",
      "Semakin lengkap informasi yang kamu berikan, semakin baik aku dapat membantumu menganalisis pengeluaran dan menemukan cara untuk berhemat. \n",
      "\u001b[0m\u001b[32;1m\u001b[1;3m{\n",
      " \"response\": \"Maaf, aku memerlukan informasi lebih lanjut untuk bisa menganalisis transaksi dan memberikan rekomendasi penghematan. \\n\\nTolong berikan saya data transaksi atau struk belanja kamu.  Informasi yang lebih detail akan membantuku memberikan saran yang lebih personal dan efektif. \\n\\nContoh informasi yang berguna:\\n\\n* **Daftar barang yang dibeli:**  Sebutkan barang-barang yang biasanya kamu beli setiap bulan, beserta harganya.\\n* **Frekuensi pembelian:**  Seberapa sering kamu membeli barang-barang tersebut? \\n* **Tempat pembelian:** Apakah kamu  membeli barang di supermarket, pasar tradisional, atau toko online?\\n* **Metode pembayaran:** Apakah kamu  cenderung menggunakan uang tunai, kartu debit, atau kartu kredit?\\n\\nSemakin lengkap informasi yang kamu berikan, semakin baik aku dapat membantumu menganalisis pengeluaran dan menemukan cara untuk berhemat. \\n\"\n",
      "}\n",
      "\u001b[0m\n",
      "\n",
      "\u001b[1m> Finished chain.\u001b[0m\n"
     ]
    }
   ],
   "source": [
    "response = agent_executor.invoke({\n",
    "    'input': 'Analisis transksi saya, dan berikan pengeh'\n",
    "})"
   ]
  },
  {
   "cell_type": "code",
   "execution_count": 322,
   "metadata": {},
   "outputs": [
    {
     "data": {
      "text/plain": [
       "'{\\n \"response\": \"Maaf, aku memerlukan informasi lebih lanjut untuk bisa menganalisis transaksi dan memberikan rekomendasi penghematan. \\\\n\\\\nTolong berikan saya data transaksi atau struk belanja kamu.  Informasi yang lebih detail akan membantuku memberikan saran yang lebih personal dan efektif. \\\\n\\\\nContoh informasi yang berguna:\\\\n\\\\n* **Daftar barang yang dibeli:**  Sebutkan barang-barang yang biasanya kamu beli setiap bulan, beserta harganya.\\\\n* **Frekuensi pembelian:**  Seberapa sering kamu membeli barang-barang tersebut? \\\\n* **Tempat pembelian:** Apakah kamu  membeli barang di supermarket, pasar tradisional, atau toko online?\\\\n* **Metode pembayaran:** Apakah kamu  cenderung menggunakan uang tunai, kartu debit, atau kartu kredit?\\\\n\\\\nSemakin lengkap informasi yang kamu berikan, semakin baik aku dapat membantumu menganalisis pengeluaran dan menemukan cara untuk berhemat. \\\\n\"\\n}\\n'"
      ]
     },
     "metadata": {},
     "output_type": "display_data"
    }
   ],
   "source": [
    "display(response['output'])"
   ]
  },
  {
   "cell_type": "markdown",
   "metadata": {},
   "source": [
    "## **Notebooks**"
   ]
  },
  {
   "cell_type": "markdown",
   "metadata": {},
   "source": [
    "### Cobain pandas agent"
   ]
  }
 ],
 "metadata": {
  "kernelspec": {
   "display_name": ".venv",
   "language": "python",
   "name": "python3"
  },
  "language_info": {
   "codemirror_mode": {
    "name": "ipython",
    "version": 3
   },
   "file_extension": ".py",
   "mimetype": "text/x-python",
   "name": "python",
   "nbconvert_exporter": "python",
   "pygments_lexer": "ipython3",
   "version": "3.10.12"
  }
 },
 "nbformat": 4,
 "nbformat_minor": 2
}
